{
  "nbformat": 4,
  "nbformat_minor": 0,
  "metadata": {
    "colab": {
      "name": "Copy of Lebron_pandas.ipynb",
      "provenance": [],
      "collapsed_sections": [],
      "authorship_tag": "ABX9TyMp5r1oyD8ptUDCtHQ/WTS+",
      "include_colab_link": true
    },
    "kernelspec": {
      "name": "python3",
      "display_name": "Python 3"
    }
  },
  "cells": [
    {
      "cell_type": "markdown",
      "metadata": {
        "id": "view-in-github",
        "colab_type": "text"
      },
      "source": [
        "<a href=\"https://colab.research.google.com/github/mahessh77melo/kingjames/blob/master/Lebron_pandas.ipynb\" target=\"_parent\"><img src=\"https://colab.research.google.com/assets/colab-badge.svg\" alt=\"Open In Colab\"/></a>"
      ]
    },
    {
      "cell_type": "code",
      "metadata": {
        "id": "eClso3lkchml",
        "colab_type": "code",
        "colab": {}
      },
      "source": [
        "import pandas as pd\n",
        "import numpy as np\n",
        "import matplotlib.pyplot as plt\n",
        "import seaborn as sns\n",
        "import pandas.util.testing as tm\n",
        "%matplotlib inline"
      ],
      "execution_count": null,
      "outputs": []
    },
    {
      "cell_type": "code",
      "metadata": {
        "id": "1qMjwVGYdguy",
        "colab_type": "code",
        "colab": {}
      },
      "source": [
        "leb = pd.read_excel('lebron_career.csv.xlsx')"
      ],
      "execution_count": null,
      "outputs": []
    },
    {
      "cell_type": "code",
      "metadata": {
        "id": "Kakds21Xbapq",
        "colab_type": "code",
        "colab": {
          "base_uri": "https://localhost:8080/",
          "height": 383
        },
        "outputId": "7bea8244-c498-498f-cdef-994559be833b"
      },
      "source": [
        "leb.head()"
      ],
      "execution_count": null,
      "outputs": [
        {
          "output_type": "execute_result",
          "data": {
            "text/html": [
              "<div>\n",
              "<style scoped>\n",
              "    .dataframe tbody tr th:only-of-type {\n",
              "        vertical-align: middle;\n",
              "    }\n",
              "\n",
              "    .dataframe tbody tr th {\n",
              "        vertical-align: top;\n",
              "    }\n",
              "\n",
              "    .dataframe thead th {\n",
              "        text-align: right;\n",
              "    }\n",
              "</style>\n",
              "<table border=\"1\" class=\"dataframe\">\n",
              "  <thead>\n",
              "    <tr style=\"text-align: right;\">\n",
              "      <th></th>\n",
              "      <th>game</th>\n",
              "      <th>date</th>\n",
              "      <th>age</th>\n",
              "      <th>team</th>\n",
              "      <th>opp</th>\n",
              "      <th>result</th>\n",
              "      <th>mp</th>\n",
              "      <th>fg</th>\n",
              "      <th>fga</th>\n",
              "      <th>fgp</th>\n",
              "      <th>three</th>\n",
              "      <th>threeatt</th>\n",
              "      <th>threep</th>\n",
              "      <th>ft</th>\n",
              "      <th>fta</th>\n",
              "      <th>ftp</th>\n",
              "      <th>orb</th>\n",
              "      <th>drb</th>\n",
              "      <th>trb</th>\n",
              "      <th>ast</th>\n",
              "      <th>stl</th>\n",
              "      <th>blk</th>\n",
              "      <th>tov</th>\n",
              "      <th>pts</th>\n",
              "      <th>game_score</th>\n",
              "      <th>minus_plus</th>\n",
              "    </tr>\n",
              "  </thead>\n",
              "  <tbody>\n",
              "    <tr>\n",
              "      <th>0</th>\n",
              "      <td>1</td>\n",
              "      <td>2003-10-29</td>\n",
              "      <td>18-303</td>\n",
              "      <td>CLE</td>\n",
              "      <td>SAC</td>\n",
              "      <td>L (-14)</td>\n",
              "      <td>1900-01-01 18:00:00</td>\n",
              "      <td>12</td>\n",
              "      <td>20</td>\n",
              "      <td>0.600</td>\n",
              "      <td>0</td>\n",
              "      <td>2</td>\n",
              "      <td>0.0</td>\n",
              "      <td>1</td>\n",
              "      <td>3</td>\n",
              "      <td>0.333</td>\n",
              "      <td>2</td>\n",
              "      <td>4</td>\n",
              "      <td>6</td>\n",
              "      <td>9</td>\n",
              "      <td>4</td>\n",
              "      <td>0</td>\n",
              "      <td>2</td>\n",
              "      <td>25</td>\n",
              "      <td>24.7</td>\n",
              "      <td>-9</td>\n",
              "    </tr>\n",
              "    <tr>\n",
              "      <th>1</th>\n",
              "      <td>2</td>\n",
              "      <td>2003-10-30</td>\n",
              "      <td>18-304</td>\n",
              "      <td>CLE</td>\n",
              "      <td>PHO</td>\n",
              "      <td>L (-9)</td>\n",
              "      <td>1900-01-01 17:00:00</td>\n",
              "      <td>8</td>\n",
              "      <td>17</td>\n",
              "      <td>0.471</td>\n",
              "      <td>1</td>\n",
              "      <td>5</td>\n",
              "      <td>0.2</td>\n",
              "      <td>4</td>\n",
              "      <td>7</td>\n",
              "      <td>0.571</td>\n",
              "      <td>2</td>\n",
              "      <td>10</td>\n",
              "      <td>12</td>\n",
              "      <td>8</td>\n",
              "      <td>1</td>\n",
              "      <td>0</td>\n",
              "      <td>7</td>\n",
              "      <td>21</td>\n",
              "      <td>14.7</td>\n",
              "      <td>-3</td>\n",
              "    </tr>\n",
              "    <tr>\n",
              "      <th>2</th>\n",
              "      <td>3</td>\n",
              "      <td>2003-11-01</td>\n",
              "      <td>18-306</td>\n",
              "      <td>CLE</td>\n",
              "      <td>POR</td>\n",
              "      <td>L (-19)</td>\n",
              "      <td>1900-01-01 15:00:00</td>\n",
              "      <td>3</td>\n",
              "      <td>12</td>\n",
              "      <td>0.250</td>\n",
              "      <td>0</td>\n",
              "      <td>1</td>\n",
              "      <td>0.0</td>\n",
              "      <td>2</td>\n",
              "      <td>2</td>\n",
              "      <td>1.000</td>\n",
              "      <td>0</td>\n",
              "      <td>4</td>\n",
              "      <td>4</td>\n",
              "      <td>6</td>\n",
              "      <td>2</td>\n",
              "      <td>0</td>\n",
              "      <td>2</td>\n",
              "      <td>8</td>\n",
              "      <td>5.0</td>\n",
              "      <td>-21</td>\n",
              "    </tr>\n",
              "    <tr>\n",
              "      <th>3</th>\n",
              "      <td>4</td>\n",
              "      <td>2003-11-05</td>\n",
              "      <td>18-310</td>\n",
              "      <td>CLE</td>\n",
              "      <td>DEN</td>\n",
              "      <td>L (-4)</td>\n",
              "      <td>1900-01-01 17:00:00</td>\n",
              "      <td>3</td>\n",
              "      <td>11</td>\n",
              "      <td>0.273</td>\n",
              "      <td>0</td>\n",
              "      <td>2</td>\n",
              "      <td>0.0</td>\n",
              "      <td>1</td>\n",
              "      <td>1</td>\n",
              "      <td>1.000</td>\n",
              "      <td>2</td>\n",
              "      <td>9</td>\n",
              "      <td>11</td>\n",
              "      <td>7</td>\n",
              "      <td>2</td>\n",
              "      <td>3</td>\n",
              "      <td>2</td>\n",
              "      <td>7</td>\n",
              "      <td>11.2</td>\n",
              "      <td>-3</td>\n",
              "    </tr>\n",
              "    <tr>\n",
              "      <th>4</th>\n",
              "      <td>5</td>\n",
              "      <td>2003-11-07</td>\n",
              "      <td>18-312</td>\n",
              "      <td>CLE</td>\n",
              "      <td>IND</td>\n",
              "      <td>L (-1)</td>\n",
              "      <td>1900-01-01 20:00:00</td>\n",
              "      <td>8</td>\n",
              "      <td>18</td>\n",
              "      <td>0.444</td>\n",
              "      <td>1</td>\n",
              "      <td>2</td>\n",
              "      <td>0.5</td>\n",
              "      <td>6</td>\n",
              "      <td>7</td>\n",
              "      <td>0.857</td>\n",
              "      <td>0</td>\n",
              "      <td>5</td>\n",
              "      <td>5</td>\n",
              "      <td>3</td>\n",
              "      <td>0</td>\n",
              "      <td>0</td>\n",
              "      <td>7</td>\n",
              "      <td>23</td>\n",
              "      <td>9.0</td>\n",
              "      <td>-7</td>\n",
              "    </tr>\n",
              "  </tbody>\n",
              "</table>\n",
              "</div>"
            ],
            "text/plain": [
              "   game       date     age team  opp  ... blk tov  pts  game_score  minus_plus\n",
              "0     1 2003-10-29  18-303  CLE  SAC  ...   0   2   25        24.7          -9\n",
              "1     2 2003-10-30  18-304  CLE  PHO  ...   0   7   21        14.7          -3\n",
              "2     3 2003-11-01  18-306  CLE  POR  ...   0   2    8         5.0         -21\n",
              "3     4 2003-11-05  18-310  CLE  DEN  ...   3   2    7        11.2          -3\n",
              "4     5 2003-11-07  18-312  CLE  IND  ...   0   7   23         9.0          -7\n",
              "\n",
              "[5 rows x 26 columns]"
            ]
          },
          "metadata": {
            "tags": []
          },
          "execution_count": 6
        }
      ]
    },
    {
      "cell_type": "code",
      "metadata": {
        "id": "h7zEWcq9bapt",
        "colab_type": "code",
        "colab": {
          "base_uri": "https://localhost:8080/",
          "height": 84
        },
        "outputId": "6ec6af54-f56f-4bb1-9753-be53979e57e0"
      },
      "source": [
        "leb.columns"
      ],
      "execution_count": null,
      "outputs": [
        {
          "output_type": "execute_result",
          "data": {
            "text/plain": [
              "Index(['game', 'date', 'age', 'team', 'opp', 'result', 'mp', 'fg', 'fga',\n",
              "       'fgp', 'three', 'threeatt', 'threep', 'ft', 'fta', 'ftp', 'orb', 'drb',\n",
              "       'trb', 'ast', 'stl', 'blk', 'tov', 'pts', 'game_score', 'minus_plus'],\n",
              "      dtype='object')"
            ]
          },
          "metadata": {
            "tags": []
          },
          "execution_count": 7
        }
      ]
    },
    {
      "cell_type": "code",
      "metadata": {
        "id": "8TC3z5ERbapw",
        "colab_type": "code",
        "colab": {
          "base_uri": "https://localhost:8080/",
          "height": 353
        },
        "outputId": "5cbbc98a-5e1d-47da-df6d-c082f5271b64"
      },
      "source": [
        "fig,axes=plt.subplots()\n",
        "axes=fig.add_axes([0,0,1,1])\n",
        "axes.bar([1,2],[leb['orb'].sum(),leb['drb'].sum()],color='orange')"
      ],
      "execution_count": null,
      "outputs": [
        {
          "output_type": "execute_result",
          "data": {
            "text/plain": [
              "<BarContainer object of 2 artists>"
            ]
          },
          "metadata": {
            "tags": []
          },
          "execution_count": 8
        },
        {
          "output_type": "display_data",
          "data": {
            "image/png": "[encoded data removed]",
            "text/plain": [
              "<Figure size 432x288 with 2 Axes>"
            ]
          },
          "metadata": {
            "tags": [],
            "needs_background": "light"
          }
        }
      ]
    },
    {
      "cell_type": "code",
      "metadata": {
        "id": "q6uEBg_6bapz",
        "colab_type": "code",
        "colab": {
          "base_uri": "https://localhost:8080/",
          "height": 34
        },
        "outputId": "14dda1e9-c6a0-4fdc-a95a-1fdc855d29ef"
      },
      "source": [
        "leb['drb'].sum()"
      ],
      "execution_count": null,
      "outputs": [
        {
          "output_type": "execute_result",
          "data": {
            "text/plain": [
              "6947"
            ]
          },
          "metadata": {
            "tags": []
          },
          "execution_count": 9
        }
      ]
    },
    {
      "cell_type": "code",
      "metadata": {
        "id": "Nrsnf7TTbap1",
        "colab_type": "code",
        "colab": {
          "base_uri": "https://localhost:8080/",
          "height": 34
        },
        "outputId": "aed28500-5321-426a-e89e-50a0c9857b30"
      },
      "source": [
        "leb['game'].count()"
      ],
      "execution_count": null,
      "outputs": [
        {
          "output_type": "execute_result",
          "data": {
            "text/plain": [
              "1132"
            ]
          },
          "metadata": {
            "tags": []
          },
          "execution_count": 10
        }
      ]
    },
    {
      "cell_type": "code",
      "metadata": {
        "id": "pDjTNTUTbap3",
        "colab_type": "code",
        "colab": {
          "base_uri": "https://localhost:8080/",
          "height": 34
        },
        "outputId": "18bb1446-5b42-4280-81df-a6f073444149"
      },
      "source": [
        "#total points in christmas matches\n",
        "leb[leb['date'].apply(lambda x:str(x)[5:10]=='12-25')]['pts'].sum()"
      ],
      "execution_count": null,
      "outputs": [
        {
          "output_type": "execute_result",
          "data": {
            "text/plain": [
              "321"
            ]
          },
          "metadata": {
            "tags": []
          },
          "execution_count": 11
        }
      ]
    },
    {
      "cell_type": "code",
      "metadata": {
        "id": "I5HGp6JZbap4",
        "colab_type": "code",
        "colab": {
          "base_uri": "https://localhost:8080/",
          "height": 34
        },
        "outputId": "00cfd0fd-ae70-412c-abe8-83fa609eddf5"
      },
      "source": [
        "#total wins on christmas day\n",
        "u=leb['date'].apply(lambda x:str(x)[5:10]=='12-25')\n",
        "leb[u & leb['result'].apply(lambda x : str(x)[0]=='W')]['game'].count()"
      ],
      "execution_count": null,
      "outputs": [
        {
          "output_type": "execute_result",
          "data": {
            "text/plain": [
              "8"
            ]
          },
          "metadata": {
            "tags": []
          },
          "execution_count": 12
        }
      ]
    },
    {
      "cell_type": "code",
      "metadata": {
        "id": "O3NF7zLcbap6",
        "colab_type": "code",
        "colab": {
          "base_uri": "https://localhost:8080/",
          "height": 34
        },
        "outputId": "3d013540-aa00-458e-9071-4140112a168f"
      },
      "source": [
        "#getting the date of lebron's largest victory (by pt-dif)\n",
        "t=leb['result'].apply(lambda c:int(c[3:-1]))\n",
        "#converting the string into int after avoiding the brackets .\n",
        "t.max()"
      ],
      "execution_count": null,
      "outputs": [
        {
          "output_type": "execute_result",
          "data": {
            "text/plain": [
              "39"
            ]
          },
          "metadata": {
            "tags": []
          },
          "execution_count": 17
        }
      ]
    },
    {
      "cell_type": "code",
      "metadata": {
        "id": "PS4eyn9wbap8",
        "colab_type": "code",
        "colab": {
          "base_uri": "https://localhost:8080/",
          "height": 34
        },
        "outputId": "f274f220-b288-4d8f-f57e-1c6fddfeb9a5"
      },
      "source": [
        "t.min()\n",
        "#this is his worst loss. but recently he lost to the pacers by 42 :("
      ],
      "execution_count": null,
      "outputs": [
        {
          "output_type": "execute_result",
          "data": {
            "text/plain": [
              "-35"
            ]
          },
          "metadata": {
            "tags": []
          },
          "execution_count": 19
        }
      ]
    },
    {
      "cell_type": "code",
      "metadata": {
        "id": "ppF_n5wgbap-",
        "colab_type": "code",
        "colab": {}
      },
      "source": [
        "#longest 55% fg streak\n",
        "t=leb['fgp']>=0.55"
      ],
      "execution_count": null,
      "outputs": []
    },
    {
      "cell_type": "code",
      "metadata": {
        "id": "_8BuQznlbap_",
        "colab_type": "code",
        "colab": {
          "base_uri": "https://localhost:8080/",
          "height": 463
        },
        "outputId": "c9f606ff-9398-4c09-b35f-710e0c193ae9"
      },
      "source": [
        "# NOW ONTO THE BIG ONE\n",
        "#Lebron's Longest streak of 60% fg and 30 pts\n",
        "cv=0\n",
        "cl=[]\n",
        "for i in range(len(leb)):\n",
        "    if leb['fgp'][i] >= 0.6 and leb['pts'][i]>=30 :\n",
        "        cv+=1\n",
        "    else :\n",
        "        cl.append([cv,i-cv,i])\n",
        "        cv=0\n",
        "max(cl)\n",
        "print(\"The Longest 30 pt + 60% streak is \",max(cl)[0],\" games.\")\n",
        "leb[max(cl)[1]:max(cl)[2]]\n",
        "#Displaying those matches"
      ],
      "execution_count": null,
      "outputs": [
        {
          "output_type": "stream",
          "text": [
            "The Longest 30 pt + 60% streak is  6  games.\n"
          ],
          "name": "stdout"
        },
        {
          "output_type": "execute_result",
          "data": {
            "text/html": [
              "<div>\n",
              "<style scoped>\n",
              "    .dataframe tbody tr th:only-of-type {\n",
              "        vertical-align: middle;\n",
              "    }\n",
              "\n",
              "    .dataframe tbody tr th {\n",
              "        vertical-align: top;\n",
              "    }\n",
              "\n",
              "    .dataframe thead th {\n",
              "        text-align: right;\n",
              "    }\n",
              "</style>\n",
              "<table border=\"1\" class=\"dataframe\">\n",
              "  <thead>\n",
              "    <tr style=\"text-align: right;\">\n",
              "      <th></th>\n",
              "      <th>game</th>\n",
              "      <th>date</th>\n",
              "      <th>age</th>\n",
              "      <th>team</th>\n",
              "      <th>opp</th>\n",
              "      <th>result</th>\n",
              "      <th>mp</th>\n",
              "      <th>fg</th>\n",
              "      <th>fga</th>\n",
              "      <th>fgp</th>\n",
              "      <th>three</th>\n",
              "      <th>threeatt</th>\n",
              "      <th>threep</th>\n",
              "      <th>ft</th>\n",
              "      <th>fta</th>\n",
              "      <th>ftp</th>\n",
              "      <th>orb</th>\n",
              "      <th>drb</th>\n",
              "      <th>trb</th>\n",
              "      <th>ast</th>\n",
              "      <th>stl</th>\n",
              "      <th>blk</th>\n",
              "      <th>tov</th>\n",
              "      <th>pts</th>\n",
              "      <th>game_score</th>\n",
              "      <th>minus_plus</th>\n",
              "    </tr>\n",
              "  </thead>\n",
              "  <tbody>\n",
              "    <tr>\n",
              "      <th>732</th>\n",
              "      <td>44</td>\n",
              "      <td>2013-02-03</td>\n",
              "      <td>28-035</td>\n",
              "      <td>MIA</td>\n",
              "      <td>TOR</td>\n",
              "      <td>W (+15)</td>\n",
              "      <td>1900-01-01 15:44:00</td>\n",
              "      <td>10</td>\n",
              "      <td>16</td>\n",
              "      <td>0.625</td>\n",
              "      <td>1</td>\n",
              "      <td>2</td>\n",
              "      <td>0.500</td>\n",
              "      <td>9</td>\n",
              "      <td>11</td>\n",
              "      <td>0.818</td>\n",
              "      <td>0</td>\n",
              "      <td>8</td>\n",
              "      <td>8</td>\n",
              "      <td>7</td>\n",
              "      <td>2</td>\n",
              "      <td>0</td>\n",
              "      <td>3</td>\n",
              "      <td>30</td>\n",
              "      <td>27.9</td>\n",
              "      <td>29</td>\n",
              "    </tr>\n",
              "    <tr>\n",
              "      <th>733</th>\n",
              "      <td>45</td>\n",
              "      <td>2013-02-04</td>\n",
              "      <td>28-036</td>\n",
              "      <td>MIA</td>\n",
              "      <td>CHA</td>\n",
              "      <td>W (+5)</td>\n",
              "      <td>1900-01-01 14:00:00</td>\n",
              "      <td>13</td>\n",
              "      <td>14</td>\n",
              "      <td>0.929</td>\n",
              "      <td>0</td>\n",
              "      <td>0</td>\n",
              "      <td>NaN</td>\n",
              "      <td>5</td>\n",
              "      <td>6</td>\n",
              "      <td>0.833</td>\n",
              "      <td>0</td>\n",
              "      <td>8</td>\n",
              "      <td>8</td>\n",
              "      <td>8</td>\n",
              "      <td>2</td>\n",
              "      <td>0</td>\n",
              "      <td>5</td>\n",
              "      <td>31</td>\n",
              "      <td>30.6</td>\n",
              "      <td>8</td>\n",
              "    </tr>\n",
              "    <tr>\n",
              "      <th>734</th>\n",
              "      <td>46</td>\n",
              "      <td>2013-02-06</td>\n",
              "      <td>28-038</td>\n",
              "      <td>MIA</td>\n",
              "      <td>HOU</td>\n",
              "      <td>W (+6)</td>\n",
              "      <td>1900-01-01 12:37:00</td>\n",
              "      <td>11</td>\n",
              "      <td>18</td>\n",
              "      <td>0.611</td>\n",
              "      <td>3</td>\n",
              "      <td>6</td>\n",
              "      <td>0.500</td>\n",
              "      <td>7</td>\n",
              "      <td>10</td>\n",
              "      <td>0.700</td>\n",
              "      <td>1</td>\n",
              "      <td>5</td>\n",
              "      <td>6</td>\n",
              "      <td>5</td>\n",
              "      <td>0</td>\n",
              "      <td>2</td>\n",
              "      <td>4</td>\n",
              "      <td>32</td>\n",
              "      <td>24.9</td>\n",
              "      <td>4</td>\n",
              "    </tr>\n",
              "    <tr>\n",
              "      <th>735</th>\n",
              "      <td>47</td>\n",
              "      <td>2013-02-08</td>\n",
              "      <td>28-040</td>\n",
              "      <td>MIA</td>\n",
              "      <td>LAC</td>\n",
              "      <td>W (+22)</td>\n",
              "      <td>1900-01-01 06:59:00</td>\n",
              "      <td>9</td>\n",
              "      <td>11</td>\n",
              "      <td>0.818</td>\n",
              "      <td>4</td>\n",
              "      <td>5</td>\n",
              "      <td>0.800</td>\n",
              "      <td>8</td>\n",
              "      <td>11</td>\n",
              "      <td>0.727</td>\n",
              "      <td>1</td>\n",
              "      <td>4</td>\n",
              "      <td>5</td>\n",
              "      <td>6</td>\n",
              "      <td>0</td>\n",
              "      <td>2</td>\n",
              "      <td>5</td>\n",
              "      <td>30</td>\n",
              "      <td>26.0</td>\n",
              "      <td>21</td>\n",
              "    </tr>\n",
              "    <tr>\n",
              "      <th>736</th>\n",
              "      <td>48</td>\n",
              "      <td>2013-02-10</td>\n",
              "      <td>28-042</td>\n",
              "      <td>MIA</td>\n",
              "      <td>LAL</td>\n",
              "      <td>W (+10)</td>\n",
              "      <td>1900-01-01 12:15:00</td>\n",
              "      <td>12</td>\n",
              "      <td>18</td>\n",
              "      <td>0.667</td>\n",
              "      <td>1</td>\n",
              "      <td>2</td>\n",
              "      <td>0.500</td>\n",
              "      <td>7</td>\n",
              "      <td>8</td>\n",
              "      <td>0.875</td>\n",
              "      <td>1</td>\n",
              "      <td>6</td>\n",
              "      <td>7</td>\n",
              "      <td>4</td>\n",
              "      <td>3</td>\n",
              "      <td>0</td>\n",
              "      <td>4</td>\n",
              "      <td>32</td>\n",
              "      <td>26.5</td>\n",
              "      <td>7</td>\n",
              "    </tr>\n",
              "    <tr>\n",
              "      <th>737</th>\n",
              "      <td>49</td>\n",
              "      <td>2013-02-12</td>\n",
              "      <td>28-044</td>\n",
              "      <td>MIA</td>\n",
              "      <td>POR</td>\n",
              "      <td>W (+13)</td>\n",
              "      <td>1900-01-01 14:45:00</td>\n",
              "      <td>11</td>\n",
              "      <td>15</td>\n",
              "      <td>0.733</td>\n",
              "      <td>1</td>\n",
              "      <td>3</td>\n",
              "      <td>0.333</td>\n",
              "      <td>7</td>\n",
              "      <td>8</td>\n",
              "      <td>0.875</td>\n",
              "      <td>0</td>\n",
              "      <td>6</td>\n",
              "      <td>6</td>\n",
              "      <td>9</td>\n",
              "      <td>3</td>\n",
              "      <td>2</td>\n",
              "      <td>1</td>\n",
              "      <td>30</td>\n",
              "      <td>35.0</td>\n",
              "      <td>21</td>\n",
              "    </tr>\n",
              "  </tbody>\n",
              "</table>\n",
              "</div>"
            ],
            "text/plain": [
              "     game       date     age team  opp  ... blk tov  pts  game_score  minus_plus\n",
              "732    44 2013-02-03  28-035  MIA  TOR  ...   0   3   30        27.9          29\n",
              "733    45 2013-02-04  28-036  MIA  CHA  ...   0   5   31        30.6           8\n",
              "734    46 2013-02-06  28-038  MIA  HOU  ...   2   4   32        24.9           4\n",
              "735    47 2013-02-08  28-040  MIA  LAC  ...   2   5   30        26.0          21\n",
              "736    48 2013-02-10  28-042  MIA  LAL  ...   0   4   32        26.5           7\n",
              "737    49 2013-02-12  28-044  MIA  POR  ...   2   1   30        35.0          21\n",
              "\n",
              "[6 rows x 26 columns]"
            ]
          },
          "metadata": {
            "tags": []
          },
          "execution_count": 21
        }
      ]
    },
    {
      "cell_type": "code",
      "metadata": {
        "id": "Z2mUibRYeO02",
        "colab_type": "code",
        "colab": {
          "base_uri": "https://localhost:8080/",
          "height": 470
        },
        "outputId": "74d74fc0-e8fb-4ccb-f1c1-346aaa66bafe"
      },
      "source": [
        "leb.iloc[738]\n",
        "# So, for real, lebron breaks his historic streak with a 39 pt 58% fg game going 14 on 24. Shame on you KING.."
      ],
      "execution_count": null,
      "outputs": [
        {
          "output_type": "execute_result",
          "data": {
            "text/plain": [
              "game                           50\n",
              "date          2013-02-14 00:00:00\n",
              "age                        28-046\n",
              "team                          MIA\n",
              "opp                           OKC\n",
              "result                    W (+10)\n",
              "mp            1900-01-01 16:02:00\n",
              "fg                             14\n",
              "fga                            24\n",
              "fgp                         0.583\n",
              "three                           4\n",
              "threeatt                        8\n",
              "threep                        0.5\n",
              "ft                              7\n",
              "fta                             9\n",
              "ftp                         0.778\n",
              "orb                             3\n",
              "drb                             9\n",
              "trb                            12\n",
              "ast                             7\n",
              "stl                             2\n",
              "blk                             0\n",
              "tov                             4\n",
              "pts                            39\n",
              "game_score                   33.5\n",
              "minus_plus                     15\n",
              "Name: 738, dtype: object"
            ]
          },
          "metadata": {
            "tags": []
          },
          "execution_count": 23
        }
      ]
    },
    {
      "cell_type": "code",
      "metadata": {
        "id": "NDPw1lt_eTxt",
        "colab_type": "code",
        "colab": {}
      },
      "source": [
        ""
      ],
      "execution_count": null,
      "outputs": []
    }
  ]
}